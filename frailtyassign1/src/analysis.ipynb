{
 "cells": [
  {
   "cell_type": "code",
   "execution_count": 5,
   "id": "75de8e1d",
   "metadata": {},
   "outputs": [
    {
     "name": "stdout",
     "output_type": "stream",
     "text": [
      "Descriptive Statistics:\n",
      "          Height      Weight        Age  Grip strength\n",
      "count  10.000000   10.000000  10.000000      10.000000\n",
      "mean   68.600000  131.900000  32.500000      26.000000\n",
      "std     1.670662   14.231811  12.860361       4.521553\n",
      "min    65.800000  112.000000  17.000000      19.000000\n",
      "25%    67.825000  120.750000  22.250000      22.500000\n",
      "50%    68.450000  136.000000  29.500000      27.000000\n",
      "75%    69.700000  141.750000  43.500000      29.750000\n",
      "max    71.500000  153.000000  51.000000      31.000000\n",
      "\n",
      "Correlation Matrix:\n",
      "                 Height    Weight       Age  Grip strength\n",
      "Height         1.000000  0.571525 -0.032580      -0.167682\n",
      "Weight         0.571525  1.000000  0.190926       0.032807\n",
      "Age           -0.032580  0.190926  1.000000       0.133756\n",
      "Grip strength -0.167682  0.032807  0.133756       1.000000\n",
      "\n",
      "Average Grip Strength by Frailty Status:\n",
      "Frailty\n",
      "N    27.666667\n",
      "Y    23.500000\n",
      "Name: Grip strength, dtype: float64\n",
      "\n",
      "Distribution of Frailty:\n",
      "N    0.6\n",
      "Y    0.4\n",
      "Name: Frailty, dtype: float64\n",
      "\n",
      "Age Distribution of Frail and Non-frail Individuals:\n",
      "         count       mean        std   min    25%   50%   75%   max\n",
      "Frailty                                                            \n",
      "N          6.0  33.333333  13.633293  17.0  21.75  34.5  43.5  50.0\n",
      "Y          4.0  31.250000  13.524669  22.0  22.75  26.0  34.5  51.0\n"
     ]
    },
    {
     "name": "stderr",
     "output_type": "stream",
     "text": [
      "C:\\Users\\saisa\\AppData\\Local\\Temp\\ipykernel_25904\\3501966545.py:12: FutureWarning: The default value of numeric_only in DataFrame.corr is deprecated. In a future version, it will default to False. Select only valid columns or specify the value of numeric_only to silence this warning.\n",
      "  correlation_matrix = df.corr()\n",
      "C:\\Users\\saisa\\AppData\\Local\\Temp\\ipykernel_25904\\3501966545.py:13: FutureWarning: The default value of numeric_only in DataFrame.corr is deprecated. In a future version, it will default to False. Select only valid columns or specify the value of numeric_only to silence this warning.\n",
      "  print(df.corr())\n"
     ]
    }
   ],
   "source": [
    "import pandas as pd\n",
    "\n",
    "# Load the data from CSV file\n",
    "df = pd.read_csv('../data_clean/frailty_data_cleaned.csv')\n",
    "# 1. Descriptive statistics\n",
    "print(\"Descriptive Statistics:\")\n",
    "desc_stats = df.describe()\n",
    "print(df.describe())\n",
    "\n",
    "# 2. Correlation between variables\n",
    "print(\"\\nCorrelation Matrix:\")\n",
    "correlation_matrix = df.corr() \n",
    "print(df.corr())\n",
    "\n",
    "# 3. Average grip strength by frailty status\n",
    "average_grip_strength = df.groupby('Frailty')['Grip strength'].mean()\n",
    "print(\"\\nAverage Grip Strength by Frailty Status:\")\n",
    "print(average_grip_strength)\n",
    "\n",
    "# 4. Distribution of frailty\n",
    "frailty_distribution = df['Frailty'].value_counts(normalize=True)\n",
    "print(\"\\nDistribution of Frailty:\")\n",
    "print(frailty_distribution)\n",
    "\n",
    "# 5. Age distribution of frail and non-frail individuals\n",
    "age_distribution = df.groupby('Frailty')['Age'].describe()\n",
    "print(\"\\nAge Distribution of Frail and Non-frail Individuals:\")\n",
    "print(age_distribution)\n",
    "\n",
    "with open(\"../results/results.txt\", \"w\") as file:\n",
    "    file.write(\"Descriptive Statistics:\\n\")\n",
    "    file.write(desc_stats.to_string())\n",
    "    \n",
    "    file.write(\"\\n\\nCorrelation Matrix:\\n\")\n",
    "    file.write(correlation_matrix.to_string())\n",
    "    \n",
    "    file.write(\"\\n\\nAverage Grip Strength by Frailty Status:\\n\")\n",
    "    file.write(average_grip_strength.to_string())\n",
    "    \n",
    "    file.write(\"\\n\\nDistribution of Frailty:\\n\")\n",
    "    file.write(frailty_distribution.to_string())\n",
    "    \n",
    "    file.write(\"\\n\\nAge Distribution of Frail and Non-frail Individuals:\\n\")\n",
    "    file.write(age_distribution.to_string())\n"
   ]
  },
  {
   "cell_type": "code",
   "execution_count": 12,
   "id": "501d8031",
   "metadata": {},
   "outputs": [
    {
     "name": "stdout",
     "output_type": "stream",
     "text": [
      "Correlation between Age and Frailty: -0.08365462639775026\n"
     ]
    }
   ],
   "source": [
    "import pandas as pd\n",
    "\n",
    "# Load the data from CSV file\n",
    "df = pd.read_csv('../data_clean/frailty_data_cleaned.csv')\n",
    "# Convert 'Frailty' to numeric values\n",
    "df['Frailty_numeric'] = df['Frailty'].apply(lambda x: 1 if x == 'Y' else 0)\n",
    "\n",
    "# Calculate correlation between 'Age' and 'Frailty_numeric'\n",
    "correlation_age_frailty = df['Age'].corr(df['Frailty_numeric'])\n",
    "\n",
    "print(\"Correlation between Age and Frailty:\", correlation_age_frailty)\n",
    "# Writing results to a file\n",
    "with open(\"../results/results.txt\", \"a\") as file:\n",
    "    file.write(\"Correlation between Age and Frailty:\\n\")\n",
    "    file.write(str(correlation_age_frailty))"
   ]
  },
  {
   "cell_type": "code",
   "execution_count": 19,
   "id": "a646d8e3",
   "metadata": {},
   "outputs": [
    {
     "name": "stdout",
     "output_type": "stream",
     "text": [
      "Correlation between grip strength and Age: 0.13375644238747397\n"
     ]
    }
   ],
   "source": [
    "import pandas as pd\n",
    "\n",
    "# Load the data from CSV file\n",
    "df = pd.read_csv('../data_clean/frailty_data_cleaned.csv')\n",
    "# Calculate correlation between 'Grip strength' and 'Age'\n",
    "correlation_grip_strength_age = df['Grip strength'].corr(df['Age'])\n",
    "print(\"Correlation between grip strength and Age:\",correlation_grip_strength_age)\n",
    "\n",
    "# Writing results to a file\n",
    "with open(\"../results/results.txt\", \"a\") as file:  # Open file in append mode\n",
    "    file.write(\"\\n\\nCorrelation between Grip Strength and Age:\\n\")\n",
    "    file.write(str(correlation_grip_strength_age))"
   ]
  },
  {
   "cell_type": "code",
   "execution_count": 20,
   "id": "68c4fc4b",
   "metadata": {},
   "outputs": [
    {
     "name": "stdout",
     "output_type": "stream",
     "text": [
      "Correlation between Age and height: -0.03258039253199768\n"
     ]
    }
   ],
   "source": [
    "import pandas as pd\n",
    "\n",
    "# Load the data from CSV file\n",
    "df = pd.read_csv('../data_clean/frailty_data_cleaned.csv')\n",
    "# Calculate correlation between 'Height' and 'Age'\n",
    "correlation_height_age = df['Height'].corr(df['Age'])\n",
    "print(\"Correlation between Age and height:\",correlation_height_age)\n",
    "\n",
    "# Writing results to a file\n",
    "with open(\"../results/results.txt\", \"a\") as file:  # Open file in append mode\n",
    "    file.write(\"\\n\\nCorrelation between Height and Age:\\n\")\n",
    "    file.write(str(correlation_height_age))"
   ]
  },
  {
   "cell_type": "code",
   "execution_count": 25,
   "id": "4de0f143",
   "metadata": {},
   "outputs": [
    {
     "name": "stdout",
     "output_type": "stream",
     "text": [
      "Correlation between weight and height: 0.5715249798799154\n"
     ]
    }
   ],
   "source": [
    "import pandas as pd\n",
    "\n",
    "# Load the data from CSV file\n",
    "df = pd.read_csv('../data_clean/frailty_data_cleaned.csv')\n",
    "# Calculate correlation between 'Weight' and 'Height'\n",
    "correlation_weight_height = df['Weight'].corr(df['Height'])\n",
    "print(\"Correlation between weight and height:\",correlation_weight_height)\n",
    "\n",
    "# Writing results to a file\n",
    "with open(\"../results/results.txt\", \"a\") as file:  # Open file in append mode\n",
    "    file.write(\"\\n\\nCorrelation between Weight and Height:\\n\")\n",
    "    file.write(str(correlation_weight_height))"
   ]
  },
  {
   "cell_type": "code",
   "execution_count": 26,
   "id": "ec82e636",
   "metadata": {},
   "outputs": [
    {
     "name": "stdout",
     "output_type": "stream",
     "text": [
      "Correlation between weight and grip strength: 0.03280675436900745\n"
     ]
    }
   ],
   "source": [
    "import pandas as pd\n",
    "\n",
    "# Load the data from CSV file\n",
    "df = pd.read_csv('../data_clean/frailty_data_cleaned.csv')\n",
    "# Calculate correlation between 'Weight' and 'Grip strength'\n",
    "correlation_weight_grip_strength = df['Weight'].corr(df['Grip strength'])\n",
    "\n",
    "print(\"Correlation between weight and grip strength:\",correlation_weight_grip_strength)\n",
    "\n",
    "# Writing results to a file\n",
    "with open(\"../results/results.txt\", \"a\") as file:  # Open file in append mode\n",
    "    file.write(\"\\n\\nCorrelation between Weight and Grip Strength:\\n\")\n",
    "    file.write(str(correlation_weight_grip_strength))"
   ]
  },
  {
   "cell_type": "code",
   "execution_count": null,
   "id": "431c6de9",
   "metadata": {},
   "outputs": [],
   "source": []
  }
 ],
 "metadata": {
  "kernelspec": {
   "display_name": "Python 3 (ipykernel)",
   "language": "python",
   "name": "python3"
  },
  "language_info": {
   "codemirror_mode": {
    "name": "ipython",
    "version": 3
   },
   "file_extension": ".py",
   "mimetype": "text/x-python",
   "name": "python",
   "nbconvert_exporter": "python",
   "pygments_lexer": "ipython3",
   "version": "3.11.4"
  }
 },
 "nbformat": 4,
 "nbformat_minor": 5
}
