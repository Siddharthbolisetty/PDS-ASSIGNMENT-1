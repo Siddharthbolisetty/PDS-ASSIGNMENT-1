{
 "cells": [
  {
   "cell_type": "code",
   "execution_count": 5,
   "id": "8e489c4a",
   "metadata": {},
   "outputs": [
    {
     "name": "stdout",
     "output_type": "stream",
     "text": [
      "Number of missing values in each column:\n",
      "Height           0\n",
      "Weight           0\n",
      "Age              0\n",
      "Grip strength    0\n",
      "Frailty          0\n",
      "dtype: int64\n",
      "\n",
      "DataFrame after removing missing values:\n",
      "   Height  Weight  Age  Grip strength Frailty\n",
      "0    65.8     112   30             30       N\n",
      "1    71.5     136   19             31       N\n",
      "2    69.4     153   45             29       N\n",
      "3    68.2     142   22             28       Y\n",
      "4    67.8     144   29             24       Y\n",
      "5    68.7     123   50             26       N\n",
      "6    69.8     141   51             22       Y\n",
      "7    70.1     136   23             20       Y\n",
      "8    67.9     112   17             19       N\n",
      "9    66.8     120   39             31       N\n"
     ]
    }
   ],
   "source": [
    "import pandas as pd\n",
    "\n",
    "# Load the data from CSV file\n",
    "df = pd.read_csv('../Data_Raw/raw_candidates_data.csv')\n",
    "\n",
    "# Display the number of missing values in each column\n",
    "print(\"Number of missing values in each column:\")\n",
    "print(df.isnull().sum())\n",
    "\n",
    "# Remove rows with missing values\n",
    "df_cleaned = df.dropna()\n",
    "\n",
    "# Display the cleaned DataFrame\n",
    "print(\"\\nDataFrame after removing missing values:\")\n",
    "print(df_cleaned)\n",
    "\n",
    "# Save the cleaned DataFrame to a new CSV file\n",
    "df_cleaned.to_csv('../data_clean/frailty_data_cleaned.csv', index=False)\n"
   ]
  },
  {
   "cell_type": "code",
   "execution_count": null,
   "id": "43360aa0",
   "metadata": {},
   "outputs": [],
   "source": []
  }
 ],
 "metadata": {
  "kernelspec": {
   "display_name": "Python 3 (ipykernel)",
   "language": "python",
   "name": "python3"
  },
  "language_info": {
   "codemirror_mode": {
    "name": "ipython",
    "version": 3
   },
   "file_extension": ".py",
   "mimetype": "text/x-python",
   "name": "python",
   "nbconvert_exporter": "python",
   "pygments_lexer": "ipython3",
   "version": "3.11.4"
  }
 },
 "nbformat": 4,
 "nbformat_minor": 5
}
